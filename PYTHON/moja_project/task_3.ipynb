{
 "cells": [
  {
   "cell_type": "markdown",
   "id": "2c8d4d6e",
   "metadata": {},
   "source": [
    "# Charting the Path to Sustainability: Integrating Land Sector Data with SDGs"
   ]
  },
  {
   "cell_type": "markdown",
   "id": "2707ecb5",
   "metadata": {},
   "source": [
    "### TASK 2- Attribute SDG Mapping Prototype"
   ]
  },
  {
   "cell_type": "markdown",
   "id": "f02f4ded",
   "metadata": {},
   "source": [
    "#### INTRODUCTION: "
   ]
  },
  {
   "cell_type": "markdown",
   "id": "692a10a9",
   "metadata": {},
   "source": [
    "Sustainable Development Goals (SDG) are a bold,universal agreement to end poverty and all its dimensions and craft an equal, just and secure world – for people, planet and prosperity.The SDGs have been developed through an unprecedented consultative process that brought national governments and millions of citizens from the globe together to negotiate and adopt this ambitious agenda. There are 17 Sustainable Development Goals, which are listed below:"
   ]
  },
  {
   "cell_type": "markdown",
   "id": "665f7b4f",
   "metadata": {},
   "source": [
    "No 1. End poverty in all it's forms everywhere.\n",
    "\n",
    "No 2. End hunger, achieve food security and improved nutrition and promote sustainable agriculture.\n",
    "\n",
    "No 3. Ensure healthy lives and promote well-being for us all at all age.\n",
    "\n",
    "No 4. Ensure inclusive and equitable quality education and promote lifelong learning opportunities for all.\n",
    "\n",
    "No 5. Acheive gender equality and empower all women and girls.\n",
    "\n",
    "No 6. Ensure availability and sustainable management of water and sanitation for all.\n",
    "\n",
    "No 7. Ensure access to affordable, reliable, sustainable and mordern energy for all.\n",
    "\n",
    "No 8. Promote sustained inclusive and sustainable economic growth, full and productive employment and decent work for all.\n",
    "\n",
    "No 9. Build resilient infrastructure, promote inclusive and sustainable industrialization and foster innovation.\n",
    "\n",
    "No 10. Reduce inequality within and among countries.\n",
    "\n",
    "No 11. Make cities and human settle inclusive,safe resilient and sustainable.\n",
    "\n",
    "No 12. Ensure sustainable consumption and production patterns.\n",
    "\n",
    "No 13. Take urgent action to combat climate and its impacts.\n",
    "\n",
    "No 14. Conserve and sustainably use the oceans, seas and marine resources for sustainable development.\n",
    "\n",
    "No 15. Protect, restore and promote sustainable use of terrestial ecosystems, sustainably manage forests, combat dessertification, halt and reverse land degradationa and halt biodiversity loss.\n",
    "\n",
    "No 16. Promote peaceful and inclusive societies for sustainable development, provide access to justice for all and build effective, accountable and inclusive institutions at all levels.\n",
    "\n",
    "No 17. Strengthen the means of implementationand recitalize the global partnership for sustainable development."
   ]
  },
  {
   "cell_type": "markdown",
   "id": "03f92db9",
   "metadata": {},
   "source": [
    "#### SDGs for this project: \n",
    "\n",
    "No 11. Make cities and human settle inclusive,safe, resilient and sustainable (Sustainable Cities and Communities).\n",
    "\n",
    "No 13: Take urgent action to combat climate and its impacts (Climate Action)."
   ]
  },
  {
   "cell_type": "markdown",
   "id": "4f683249",
   "metadata": {},
   "source": [
    "### ADMINISTRATIVE DATASET"
   ]
  },
  {
   "cell_type": "markdown",
   "id": "b8fd9b16",
   "metadata": {},
   "source": [
    "#### ROAD DATA"
   ]
  },
  {
   "cell_type": "code",
   "execution_count": 1,
   "id": "26bef72d",
   "metadata": {},
   "outputs": [],
   "source": [
    "#importing libraries \n",
    "import pandas as pd\n",
    "import numpy as np\n",
    "import matplotlib.pyplot as plt\n",
    "import geopandas as gpd\n",
    "%matplotlib inline\n",
    "import json"
   ]
  },
  {
   "cell_type": "code",
   "execution_count": 2,
   "id": "0f141ece",
   "metadata": {},
   "outputs": [],
   "source": [
    "#Read and load the json file\n",
    "with open (\"C:/Users/adere/Downloads/Global Roads Open Access Data Set.json.geojson\") as file:\n",
    "    road = json.load(file)"
   ]
  },
  {
   "cell_type": "code",
   "execution_count": 3,
   "id": "e67eb6de",
   "metadata": {},
   "outputs": [],
   "source": [
    "#create GeoDataFrame from the road data\n",
    "Global_road = gpd.GeoDataFrame.from_features(road['features'])"
   ]
  },
  {
   "cell_type": "code",
   "execution_count": 4,
   "id": "fcfb9b3b",
   "metadata": {},
   "outputs": [
    {
     "data": {
      "text/html": [
       "<div>\n",
       "<style scoped>\n",
       "    .dataframe tbody tr th:only-of-type {\n",
       "        vertical-align: middle;\n",
       "    }\n",
       "\n",
       "    .dataframe tbody tr th {\n",
       "        vertical-align: top;\n",
       "    }\n",
       "\n",
       "    .dataframe thead th {\n",
       "        text-align: right;\n",
       "    }\n",
       "</style>\n",
       "<table border=\"1\" class=\"dataframe\">\n",
       "  <thead>\n",
       "    <tr style=\"text-align: right;\">\n",
       "      <th></th>\n",
       "      <th>geometry</th>\n",
       "      <th>OBJECTID</th>\n",
       "      <th>ONME</th>\n",
       "      <th>FCLASS</th>\n",
       "      <th>SRFTPE</th>\n",
       "      <th>ISSEASONAL</th>\n",
       "      <th>CURNTPRAC</th>\n",
       "      <th>GDWTHRPRAC</th>\n",
       "      <th>SUM_LENGTH_KM</th>\n",
       "    </tr>\n",
       "  </thead>\n",
       "  <tbody>\n",
       "    <tr>\n",
       "      <th>0</th>\n",
       "      <td>LINESTRING (-66.82451 17.98029, -66.82455 17.9...</td>\n",
       "      <td>1</td>\n",
       "      <td>None</td>\n",
       "      <td>0</td>\n",
       "      <td>0.0</td>\n",
       "      <td>0.0</td>\n",
       "      <td>NaN</td>\n",
       "      <td>NaN</td>\n",
       "      <td>16686.65607</td>\n",
       "    </tr>\n",
       "    <tr>\n",
       "      <th>1</th>\n",
       "      <td>LINESTRING (-66.62012 17.98131, -66.62126 17.9...</td>\n",
       "      <td>2</td>\n",
       "      <td>None</td>\n",
       "      <td>0</td>\n",
       "      <td>0.0</td>\n",
       "      <td>0.0</td>\n",
       "      <td>NaN</td>\n",
       "      <td>NaN</td>\n",
       "      <td>16686.65607</td>\n",
       "    </tr>\n",
       "    <tr>\n",
       "      <th>2</th>\n",
       "      <td>LINESTRING (-66.11382 17.98409, -66.11319 17.9...</td>\n",
       "      <td>3</td>\n",
       "      <td>None</td>\n",
       "      <td>0</td>\n",
       "      <td>0.0</td>\n",
       "      <td>0.0</td>\n",
       "      <td>NaN</td>\n",
       "      <td>NaN</td>\n",
       "      <td>16686.65607</td>\n",
       "    </tr>\n",
       "    <tr>\n",
       "      <th>3</th>\n",
       "      <td>LINESTRING (-66.63308 18.01087, -66.63256 18.0...</td>\n",
       "      <td>4</td>\n",
       "      <td>None</td>\n",
       "      <td>0</td>\n",
       "      <td>0.0</td>\n",
       "      <td>0.0</td>\n",
       "      <td>NaN</td>\n",
       "      <td>NaN</td>\n",
       "      <td>16686.65607</td>\n",
       "    </tr>\n",
       "    <tr>\n",
       "      <th>4</th>\n",
       "      <td>LINESTRING (-66.63308 18.01087, -66.63332 18.0...</td>\n",
       "      <td>5</td>\n",
       "      <td>None</td>\n",
       "      <td>0</td>\n",
       "      <td>0.0</td>\n",
       "      <td>0.0</td>\n",
       "      <td>NaN</td>\n",
       "      <td>NaN</td>\n",
       "      <td>16686.65607</td>\n",
       "    </tr>\n",
       "  </tbody>\n",
       "</table>\n",
       "</div>"
      ],
      "text/plain": [
       "                                            geometry  OBJECTID  ONME  FCLASS  \\\n",
       "0  LINESTRING (-66.82451 17.98029, -66.82455 17.9...         1  None       0   \n",
       "1  LINESTRING (-66.62012 17.98131, -66.62126 17.9...         2  None       0   \n",
       "2  LINESTRING (-66.11382 17.98409, -66.11319 17.9...         3  None       0   \n",
       "3  LINESTRING (-66.63308 18.01087, -66.63256 18.0...         4  None       0   \n",
       "4  LINESTRING (-66.63308 18.01087, -66.63332 18.0...         5  None       0   \n",
       "\n",
       "   SRFTPE  ISSEASONAL  CURNTPRAC  GDWTHRPRAC  SUM_LENGTH_KM  \n",
       "0     0.0         0.0        NaN         NaN    16686.65607  \n",
       "1     0.0         0.0        NaN         NaN    16686.65607  \n",
       "2     0.0         0.0        NaN         NaN    16686.65607  \n",
       "3     0.0         0.0        NaN         NaN    16686.65607  \n",
       "4     0.0         0.0        NaN         NaN    16686.65607  "
      ]
     },
     "execution_count": 4,
     "metadata": {},
     "output_type": "execute_result"
    }
   ],
   "source": [
    "Global_road.head(5)"
   ]
  },
  {
   "cell_type": "code",
   "execution_count": 5,
   "id": "478b64b2",
   "metadata": {},
   "outputs": [],
   "source": [
    "#Define a mapping function for road data\n",
    "def map_road_to_sdg(x):\n",
    "    if x['FCLASS'] != '':\n",
    "        return('SDG 11 - Sustainable Cities and Communities')"
   ]
  },
  {
   "cell_type": "code",
   "execution_count": 6,
   "id": "9b981b9b",
   "metadata": {},
   "outputs": [
    {
     "data": {
      "image/png": "[encoded data removed]",
      "text/plain": [
       "<Figure size 1000x600 with 1 Axes>"
      ]
     },
     "metadata": {},
     "output_type": "display_data"
    }
   ],
   "source": [
    "C"
   ]
  },
  {
   "cell_type": "code",
   "execution_count": 7,
   "id": "a4fb6037",
   "metadata": {},
   "outputs": [
    {
     "data": {
      "text/html": [
       "<div>\n",
       "<style scoped>\n",
       "    .dataframe tbody tr th:only-of-type {\n",
       "        vertical-align: middle;\n",
       "    }\n",
       "\n",
       "    .dataframe tbody tr th {\n",
       "        vertical-align: top;\n",
       "    }\n",
       "\n",
       "    .dataframe thead th {\n",
       "        text-align: right;\n",
       "    }\n",
       "</style>\n",
       "<table border=\"1\" class=\"dataframe\">\n",
       "  <thead>\n",
       "    <tr style=\"text-align: right;\">\n",
       "      <th></th>\n",
       "      <th>geometry</th>\n",
       "      <th>OBJECTID</th>\n",
       "      <th>ONME</th>\n",
       "      <th>FCLASS</th>\n",
       "      <th>SRFTPE</th>\n",
       "      <th>ISSEASONAL</th>\n",
       "      <th>CURNTPRAC</th>\n",
       "      <th>GDWTHRPRAC</th>\n",
       "      <th>SUM_LENGTH_KM</th>\n",
       "      <th>Sustainable Cities and Communities</th>\n",
       "    </tr>\n",
       "  </thead>\n",
       "  <tbody>\n",
       "    <tr>\n",
       "      <th>0</th>\n",
       "      <td>LINESTRING (-66.82451 17.98029, -66.82455 17.9...</td>\n",
       "      <td>1</td>\n",
       "      <td>None</td>\n",
       "      <td>0</td>\n",
       "      <td>0.0</td>\n",
       "      <td>0.0</td>\n",
       "      <td>NaN</td>\n",
       "      <td>NaN</td>\n",
       "      <td>16686.65607</td>\n",
       "      <td>SDG 11 - Sustainable Cities and Communities</td>\n",
       "    </tr>\n",
       "    <tr>\n",
       "      <th>1</th>\n",
       "      <td>LINESTRING (-66.62012 17.98131, -66.62126 17.9...</td>\n",
       "      <td>2</td>\n",
       "      <td>None</td>\n",
       "      <td>0</td>\n",
       "      <td>0.0</td>\n",
       "      <td>0.0</td>\n",
       "      <td>NaN</td>\n",
       "      <td>NaN</td>\n",
       "      <td>16686.65607</td>\n",
       "      <td>SDG 11 - Sustainable Cities and Communities</td>\n",
       "    </tr>\n",
       "  </tbody>\n",
       "</table>\n",
       "</div>"
      ],
      "text/plain": [
       "                                            geometry  OBJECTID  ONME  FCLASS  \\\n",
       "0  LINESTRING (-66.82451 17.98029, -66.82455 17.9...         1  None       0   \n",
       "1  LINESTRING (-66.62012 17.98131, -66.62126 17.9...         2  None       0   \n",
       "\n",
       "   SRFTPE  ISSEASONAL  CURNTPRAC  GDWTHRPRAC  SUM_LENGTH_KM  \\\n",
       "0     0.0         0.0        NaN         NaN    16686.65607   \n",
       "1     0.0         0.0        NaN         NaN    16686.65607   \n",
       "\n",
       "            Sustainable Cities and Communities  \n",
       "0  SDG 11 - Sustainable Cities and Communities  \n",
       "1  SDG 11 - Sustainable Cities and Communities  "
      ]
     },
     "execution_count": 7,
     "metadata": {},
     "output_type": "execute_result"
    }
   ],
   "source": [
    "# Test the prototype\n",
    "Global_road.head(2)"
   ]
  },
  {
   "cell_type": "code",
   "execution_count": 8,
   "id": "95bf2796",
   "metadata": {},
   "outputs": [],
   "source": [
    "#read the file\n",
    "file_path = r\"C:/Users/adere/Downloads/WDPA_WDOECM_wdpa_gdb_polygons/WDPA_WDOECM_wdpa_gdb_polygons.shp\""
   ]
  },
  {
   "cell_type": "code",
   "execution_count": 9,
   "id": "32bde39a",
   "metadata": {},
   "outputs": [],
   "source": [
    "# Read geospatial data from the specified file path using GeoPandas\n",
    "protected_area = gpd.read_file(file_path)"
   ]
  },
  {
   "cell_type": "code",
   "execution_count": 10,
   "id": "09c22095",
   "metadata": {},
   "outputs": [
    {
     "data": {
      "text/html": [
       "<div>\n",
       "<style scoped>\n",
       "    .dataframe tbody tr th:only-of-type {\n",
       "        vertical-align: middle;\n",
       "    }\n",
       "\n",
       "    .dataframe tbody tr th {\n",
       "        vertical-align: top;\n",
       "    }\n",
       "\n",
       "    .dataframe thead th {\n",
       "        text-align: right;\n",
       "    }\n",
       "</style>\n",
       "<table border=\"1\" class=\"dataframe\">\n",
       "  <thead>\n",
       "    <tr style=\"text-align: right;\">\n",
       "      <th></th>\n",
       "      <th>WDPAID</th>\n",
       "      <th>WDPA_PID</th>\n",
       "      <th>PA_DEF</th>\n",
       "      <th>NAME</th>\n",
       "      <th>ORIG_NAME</th>\n",
       "      <th>DESIG</th>\n",
       "      <th>DESIG_ENG</th>\n",
       "      <th>DESIG_TYPE</th>\n",
       "      <th>IUCN_CAT</th>\n",
       "      <th>INT_CRIT</th>\n",
       "      <th>...</th>\n",
       "      <th>MANG_AUTH</th>\n",
       "      <th>MANG_PLAN</th>\n",
       "      <th>VERIF</th>\n",
       "      <th>METADATAID</th>\n",
       "      <th>SUB_LOC</th>\n",
       "      <th>PARENT_ISO</th>\n",
       "      <th>ISO3</th>\n",
       "      <th>SUPP_INFO</th>\n",
       "      <th>CONS_OBJ</th>\n",
       "      <th>geometry</th>\n",
       "    </tr>\n",
       "  </thead>\n",
       "  <tbody>\n",
       "    <tr>\n",
       "      <th>0</th>\n",
       "      <td>10715.0</td>\n",
       "      <td>10715</td>\n",
       "      <td>1</td>\n",
       "      <td>Kronotskiy</td>\n",
       "      <td>Kronotskiy</td>\n",
       "      <td>UNESCO-MAB Biosphere Reserve</td>\n",
       "      <td>UNESCO-MAB Biosphere Reserve</td>\n",
       "      <td>International</td>\n",
       "      <td>Not Applicable</td>\n",
       "      <td>Not Applicable</td>\n",
       "      <td>...</td>\n",
       "      <td>Not Reported</td>\n",
       "      <td>Not Reported</td>\n",
       "      <td>State Verified</td>\n",
       "      <td>840</td>\n",
       "      <td>RU-KAM</td>\n",
       "      <td>RUS</td>\n",
       "      <td>RUS</td>\n",
       "      <td>Not Applicable</td>\n",
       "      <td>Not Applicable</td>\n",
       "      <td>MULTIPOLYGON (((160.49655 55.17709, 160.49907 ...</td>\n",
       "    </tr>\n",
       "    <tr>\n",
       "      <th>1</th>\n",
       "      <td>209777.0</td>\n",
       "      <td>209777_E</td>\n",
       "      <td>1</td>\n",
       "      <td>Sarali Land between Rivers / Great Volzhsko-Ka...</td>\n",
       "      <td>Great Volzhsko-Kamsky</td>\n",
       "      <td>UNESCO-MAB Biosphere Reserve</td>\n",
       "      <td>UNESCO-MAB Biosphere Reserve</td>\n",
       "      <td>International</td>\n",
       "      <td>Not Applicable</td>\n",
       "      <td>Not Applicable</td>\n",
       "      <td>...</td>\n",
       "      <td>Not Reported</td>\n",
       "      <td>Not Reported</td>\n",
       "      <td>State Verified</td>\n",
       "      <td>840</td>\n",
       "      <td>RU-TA</td>\n",
       "      <td>RUS</td>\n",
       "      <td>RUS</td>\n",
       "      <td>Not Applicable</td>\n",
       "      <td>Not Applicable</td>\n",
       "      <td>POLYGON ((49.30487 55.36806, 49.30433 55.37184...</td>\n",
       "    </tr>\n",
       "  </tbody>\n",
       "</table>\n",
       "<p>2 rows × 31 columns</p>\n",
       "</div>"
      ],
      "text/plain": [
       "     WDPAID  WDPA_PID PA_DEF  \\\n",
       "0   10715.0     10715      1   \n",
       "1  209777.0  209777_E      1   \n",
       "\n",
       "                                                NAME              ORIG_NAME  \\\n",
       "0                                         Kronotskiy             Kronotskiy   \n",
       "1  Sarali Land between Rivers / Great Volzhsko-Ka...  Great Volzhsko-Kamsky   \n",
       "\n",
       "                          DESIG                     DESIG_ENG     DESIG_TYPE  \\\n",
       "0  UNESCO-MAB Biosphere Reserve  UNESCO-MAB Biosphere Reserve  International   \n",
       "1  UNESCO-MAB Biosphere Reserve  UNESCO-MAB Biosphere Reserve  International   \n",
       "\n",
       "         IUCN_CAT        INT_CRIT  ...     MANG_AUTH     MANG_PLAN  \\\n",
       "0  Not Applicable  Not Applicable  ...  Not Reported  Not Reported   \n",
       "1  Not Applicable  Not Applicable  ...  Not Reported  Not Reported   \n",
       "\n",
       "            VERIF  METADATAID  SUB_LOC PARENT_ISO  ISO3       SUPP_INFO  \\\n",
       "0  State Verified         840   RU-KAM        RUS   RUS  Not Applicable   \n",
       "1  State Verified         840    RU-TA        RUS   RUS  Not Applicable   \n",
       "\n",
       "         CONS_OBJ                                           geometry  \n",
       "0  Not Applicable  MULTIPOLYGON (((160.49655 55.17709, 160.49907 ...  \n",
       "1  Not Applicable  POLYGON ((49.30487 55.36806, 49.30433 55.37184...  \n",
       "\n",
       "[2 rows x 31 columns]"
      ]
     },
     "execution_count": 10,
     "metadata": {},
     "output_type": "execute_result"
    }
   ],
   "source": [
    "protected_area.head(2)"
   ]
  },
  {
   "cell_type": "code",
   "execution_count": 11,
   "id": "36dd7d78",
   "metadata": {},
   "outputs": [
    {
     "data": {
      "text/plain": [
       "Index(['WDPAID', 'WDPA_PID', 'PA_DEF', 'NAME', 'ORIG_NAME', 'DESIG',\n",
       "       'DESIG_ENG', 'DESIG_TYPE', 'IUCN_CAT', 'INT_CRIT', 'MARINE',\n",
       "       'REP_M_AREA', 'GIS_M_AREA', 'REP_AREA', 'GIS_AREA', 'NO_TAKE',\n",
       "       'NO_TK_AREA', 'STATUS', 'STATUS_YR', 'GOV_TYPE', 'OWN_TYPE',\n",
       "       'MANG_AUTH', 'MANG_PLAN', 'VERIF', 'METADATAID', 'SUB_LOC',\n",
       "       'PARENT_ISO', 'ISO3', 'SUPP_INFO', 'CONS_OBJ', 'geometry'],\n",
       "      dtype='object')"
      ]
     },
     "execution_count": 11,
     "metadata": {},
     "output_type": "execute_result"
    }
   ],
   "source": [
    "#checking for the column names\n",
    "protected_area.columns"
   ]
  },
  {
   "cell_type": "code",
   "execution_count": 12,
   "id": "3c8b2aa5",
   "metadata": {},
   "outputs": [
    {
     "data": {
      "text/plain": [
       "STATUS\n",
       "Designated      237644\n",
       "Proposed          1152\n",
       "Established       1098\n",
       "Inscribed          224\n",
       "Not Reported        35\n",
       "Adopted             12\n",
       "Name: count, dtype: int64"
      ]
     },
     "execution_count": 12,
     "metadata": {},
     "output_type": "execute_result"
    }
   ],
   "source": [
    "protected_area['STATUS'].value_counts()"
   ]
  },
  {
   "cell_type": "code",
   "execution_count": 13,
   "id": "6b5a6034",
   "metadata": {},
   "outputs": [],
   "source": [
    "Areas = ['Designated', 'Established', 'Inscribed']"
   ]
  },
  {
   "cell_type": "code",
   "execution_count": 14,
   "id": "90b7d330",
   "metadata": {},
   "outputs": [],
   "source": [
    "# Define a mapping function for protected areas\n",
    "def map_protected_area_to_sdg(x):\n",
    "    if x['STATUS'] in Areas:\n",
    "        return \"SDG 11 - Sustainable Cities and Communities\"\n",
    "    else:\n",
    "        return \"not_mapped\""
   ]
  },
  {
   "cell_type": "code",
   "execution_count": 15,
   "id": "d23c0b68",
   "metadata": {},
   "outputs": [
    {
     "data": {
      "image/png": "[encoded data removed]",
      "text/plain": [
       "<Figure size 640x480 with 1 Axes>"
      ]
     },
     "metadata": {},
     "output_type": "display_data"
    }
   ],
   "source": [
    "# Apply the mapping function to the 'protected_area' dataset\n",
    "results = [map_protected_area_to_sdg(row) for index, row in protected_area.iterrows()]\n",
    "\n",
    "# Count the number of protected areas mapped  and not_mapped\n",
    "mapped_count = results.count(\"SDG 11 - Sustainable Cities and Communities\")\n",
    "not_mapped_count = results.count(\"not_mapped\")\n",
    "\n",
    "# Create pie chart to visualize the prototype\n",
    "labels = [\"Mapped to SDG 11\", \"Not Mapped\"]\n",
    "sizes = [mapped_count, not_mapped_count]\n",
    "colors = [\"lightcoral\", \"lightblue\"]\n",
    "explode = (0.1, 0)  # To explode the \"Mapped to SDG 11\" slice\n",
    "\n",
    "# Create the pie chart\n",
    "plt.pie(sizes, explode=explode, labels=labels, colors=colors, autopct='%1.1f%%', shadow=True, startangle=140)\n",
    "plt.axis('equal') # Equal aspect ratio ensures that pie is drawn as a circle\n",
    "\n",
    "# Set the title\n",
    "plt.title('MAPPING OF PROTECTED AREAS to SDG 11')\n",
    "\n",
    "# Display the pie chart\n",
    "plt.show()"
   ]
  },
  {
   "cell_type": "code",
   "execution_count": 16,
   "id": "e08328d5",
   "metadata": {},
   "outputs": [
    {
     "data": {
      "text/html": [
       "<div>\n",
       "<style scoped>\n",
       "    .dataframe tbody tr th:only-of-type {\n",
       "        vertical-align: middle;\n",
       "    }\n",
       "\n",
       "    .dataframe tbody tr th {\n",
       "        vertical-align: top;\n",
       "    }\n",
       "\n",
       "    .dataframe thead th {\n",
       "        text-align: right;\n",
       "    }\n",
       "</style>\n",
       "<table border=\"1\" class=\"dataframe\">\n",
       "  <thead>\n",
       "    <tr style=\"text-align: right;\">\n",
       "      <th></th>\n",
       "      <th>WDPAID</th>\n",
       "      <th>WDPA_PID</th>\n",
       "      <th>PA_DEF</th>\n",
       "      <th>NAME</th>\n",
       "      <th>ORIG_NAME</th>\n",
       "      <th>DESIG</th>\n",
       "      <th>DESIG_ENG</th>\n",
       "      <th>DESIG_TYPE</th>\n",
       "      <th>IUCN_CAT</th>\n",
       "      <th>INT_CRIT</th>\n",
       "      <th>...</th>\n",
       "      <th>MANG_AUTH</th>\n",
       "      <th>MANG_PLAN</th>\n",
       "      <th>VERIF</th>\n",
       "      <th>METADATAID</th>\n",
       "      <th>SUB_LOC</th>\n",
       "      <th>PARENT_ISO</th>\n",
       "      <th>ISO3</th>\n",
       "      <th>SUPP_INFO</th>\n",
       "      <th>CONS_OBJ</th>\n",
       "      <th>geometry</th>\n",
       "    </tr>\n",
       "  </thead>\n",
       "  <tbody>\n",
       "    <tr>\n",
       "      <th>0</th>\n",
       "      <td>10715.0</td>\n",
       "      <td>10715</td>\n",
       "      <td>1</td>\n",
       "      <td>Kronotskiy</td>\n",
       "      <td>Kronotskiy</td>\n",
       "      <td>UNESCO-MAB Biosphere Reserve</td>\n",
       "      <td>UNESCO-MAB Biosphere Reserve</td>\n",
       "      <td>International</td>\n",
       "      <td>Not Applicable</td>\n",
       "      <td>Not Applicable</td>\n",
       "      <td>...</td>\n",
       "      <td>Not Reported</td>\n",
       "      <td>Not Reported</td>\n",
       "      <td>State Verified</td>\n",
       "      <td>840</td>\n",
       "      <td>RU-KAM</td>\n",
       "      <td>RUS</td>\n",
       "      <td>RUS</td>\n",
       "      <td>Not Applicable</td>\n",
       "      <td>Not Applicable</td>\n",
       "      <td>MULTIPOLYGON (((160.49655 55.17709, 160.49907 ...</td>\n",
       "    </tr>\n",
       "    <tr>\n",
       "      <th>1</th>\n",
       "      <td>209777.0</td>\n",
       "      <td>209777_E</td>\n",
       "      <td>1</td>\n",
       "      <td>Sarali Land between Rivers / Great Volzhsko-Ka...</td>\n",
       "      <td>Great Volzhsko-Kamsky</td>\n",
       "      <td>UNESCO-MAB Biosphere Reserve</td>\n",
       "      <td>UNESCO-MAB Biosphere Reserve</td>\n",
       "      <td>International</td>\n",
       "      <td>Not Applicable</td>\n",
       "      <td>Not Applicable</td>\n",
       "      <td>...</td>\n",
       "      <td>Not Reported</td>\n",
       "      <td>Not Reported</td>\n",
       "      <td>State Verified</td>\n",
       "      <td>840</td>\n",
       "      <td>RU-TA</td>\n",
       "      <td>RUS</td>\n",
       "      <td>RUS</td>\n",
       "      <td>Not Applicable</td>\n",
       "      <td>Not Applicable</td>\n",
       "      <td>POLYGON ((49.30487 55.36806, 49.30433 55.37184...</td>\n",
       "    </tr>\n",
       "  </tbody>\n",
       "</table>\n",
       "<p>2 rows × 31 columns</p>\n",
       "</div>"
      ],
      "text/plain": [
       "     WDPAID  WDPA_PID PA_DEF  \\\n",
       "0   10715.0     10715      1   \n",
       "1  209777.0  209777_E      1   \n",
       "\n",
       "                                                NAME              ORIG_NAME  \\\n",
       "0                                         Kronotskiy             Kronotskiy   \n",
       "1  Sarali Land between Rivers / Great Volzhsko-Ka...  Great Volzhsko-Kamsky   \n",
       "\n",
       "                          DESIG                     DESIG_ENG     DESIG_TYPE  \\\n",
       "0  UNESCO-MAB Biosphere Reserve  UNESCO-MAB Biosphere Reserve  International   \n",
       "1  UNESCO-MAB Biosphere Reserve  UNESCO-MAB Biosphere Reserve  International   \n",
       "\n",
       "         IUCN_CAT        INT_CRIT  ...     MANG_AUTH     MANG_PLAN  \\\n",
       "0  Not Applicable  Not Applicable  ...  Not Reported  Not Reported   \n",
       "1  Not Applicable  Not Applicable  ...  Not Reported  Not Reported   \n",
       "\n",
       "            VERIF  METADATAID  SUB_LOC PARENT_ISO  ISO3       SUPP_INFO  \\\n",
       "0  State Verified         840   RU-KAM        RUS   RUS  Not Applicable   \n",
       "1  State Verified         840    RU-TA        RUS   RUS  Not Applicable   \n",
       "\n",
       "         CONS_OBJ                                           geometry  \n",
       "0  Not Applicable  MULTIPOLYGON (((160.49655 55.17709, 160.49907 ...  \n",
       "1  Not Applicable  POLYGON ((49.30487 55.36806, 49.30433 55.37184...  \n",
       "\n",
       "[2 rows x 31 columns]"
      ]
     },
     "execution_count": 16,
     "metadata": {},
     "output_type": "execute_result"
    }
   ],
   "source": [
    "protected_area.head(2)"
   ]
  },
  {
   "cell_type": "code",
   "execution_count": 17,
   "id": "cd883b35",
   "metadata": {},
   "outputs": [],
   "source": [
    "#Read and load json file\n",
    "with open(\"C:/Users/adere/Downloads/IPCC_ClimateZoneMap_Vector.geojson\") as file:\n",
    "    climate = json.load(file)"
   ]
  },
  {
   "cell_type": "code",
   "execution_count": 18,
   "id": "3d7ba44d",
   "metadata": {},
   "outputs": [],
   "source": [
    "#create GeoDataFrame from the climate data\n",
    "Climate_data= gpd.GeoDataFrame.from_features(climate['features'])"
   ]
  },
  {
   "cell_type": "code",
   "execution_count": 19,
   "id": "77800e98",
   "metadata": {},
   "outputs": [
    {
     "data": {
      "text/html": [
       "<div>\n",
       "<style scoped>\n",
       "    .dataframe tbody tr th:only-of-type {\n",
       "        vertical-align: middle;\n",
       "    }\n",
       "\n",
       "    .dataframe tbody tr th {\n",
       "        vertical-align: top;\n",
       "    }\n",
       "\n",
       "    .dataframe thead th {\n",
       "        text-align: right;\n",
       "    }\n",
       "</style>\n",
       "<table border=\"1\" class=\"dataframe\">\n",
       "  <thead>\n",
       "    <tr style=\"text-align: right;\">\n",
       "      <th></th>\n",
       "      <th>geometry</th>\n",
       "      <th>CLASS_NAME</th>\n",
       "    </tr>\n",
       "  </thead>\n",
       "  <tbody>\n",
       "    <tr>\n",
       "      <th>0</th>\n",
       "      <td>MULTIPOLYGON (((-37.65000 83.50000, -37.65000 ...</td>\n",
       "      <td>0</td>\n",
       "    </tr>\n",
       "    <tr>\n",
       "      <th>1</th>\n",
       "      <td>MULTIPOLYGON (((-38.75000 83.40000, -38.75000 ...</td>\n",
       "      <td>0</td>\n",
       "    </tr>\n",
       "  </tbody>\n",
       "</table>\n",
       "</div>"
      ],
      "text/plain": [
       "                                            geometry  CLASS_NAME\n",
       "0  MULTIPOLYGON (((-37.65000 83.50000, -37.65000 ...           0\n",
       "1  MULTIPOLYGON (((-38.75000 83.40000, -38.75000 ...           0"
      ]
     },
     "execution_count": 19,
     "metadata": {},
     "output_type": "execute_result"
    }
   ],
   "source": [
    "Climate_data.head(2)"
   ]
  },
  {
   "cell_type": "code",
   "execution_count": 20,
   "id": "4fffe1d6",
   "metadata": {},
   "outputs": [
    {
     "data": {
      "image/png": "[encoded data removed]",
      "text/plain": [
       "<Figure size 1000x600 with 1 Axes>"
      ]
     },
     "metadata": {},
     "output_type": "display_data"
    }
   ],
   "source": [
    "# Define the mapping function for climate\n",
    "def map_climate_to_sdg(x):\n",
    "    if x['CLASS_NAME'] != '':\n",
    "        return 'Climate Action'\n",
    "\n",
    "# Apply the mapping function to the dataset\n",
    "Climate_data['Climate Action'] = Climate_data.apply(map_climate_to_sdg, axis=1)\n",
    "\n",
    "# Create a bar chart to visualize the mapped data\n",
    "count_sdg = Climate_data['Climate Action'].value_counts()\n",
    "plt.figure(figsize=(10, 6))\n",
    "count_sdg.plot(kind='bar', color=['red'])\n",
    "plt.title('MAPPING CLIMATE TO SDG 13')\n",
    "plt.xlabel('SDG Categories')\n",
    "plt.ylabel('Number of Features')\n",
    "plt.xticks(rotation=0)\n",
    "plt.tight_layout()\n",
    "\n",
    "# Display the plot\n",
    "plt.show()"
   ]
  }
 ],
 "metadata": {
  "kernelspec": {
   "display_name": "Python 3 (ipykernel)",
   "language": "python",
   "name": "python3"
  },
  "language_info": {
   "codemirror_mode": {
    "name": "ipython",
    "version": 3
   },
   "file_extension": ".py",
   "mimetype": "text/x-python",
   "name": "python",
   "nbconvert_exporter": "python",
   "pygments_lexer": "ipython3",
   "version": "3.11.5"
  }
 },
 "nbformat": 4,
 "nbformat_minor": 5
}
